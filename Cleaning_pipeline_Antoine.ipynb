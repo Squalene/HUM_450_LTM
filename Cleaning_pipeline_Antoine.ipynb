{
 "cells": [
  {
   "cell_type": "code",
   "execution_count": 1,
   "id": "7ef2aa98",
   "metadata": {},
   "outputs": [],
   "source": [
    "import pandas as pd\n",
    "import os\n",
    "import matplotlib.pyplot as plt\n",
    "import numpy as np\n",
    "DATA_DIR = 'data/'\n",
    "pd.set_option('display.max_colwidth', None) #Print full text\n",
    "pd.set_option('display.max_rows', 1000) #Print full text"
   ]
  },
  {
   "cell_type": "code",
   "execution_count": 2,
   "id": "f6451e6e",
   "metadata": {},
   "outputs": [
    {
     "name": "stderr",
     "output_type": "stream",
     "text": [
      "/opt/miniconda3/lib/python3.8/site-packages/IPython/core/interactiveshell.py:3172: DtypeWarning: Columns (1) have mixed types.Specify dtype option on import or set low_memory=False.\n",
      "  has_raised = await self.run_ast_nodes(code_ast.body, cell_name,\n"
     ]
    }
   ],
   "source": [
    "df = pd.read_csv(DATA_DIR+'/processed/census_reduced.csv')"
   ]
  },
  {
   "cell_type": "code",
   "execution_count": 10,
   "id": "f96ced34",
   "metadata": {},
   "outputs": [
    {
     "data": {
      "text/html": [
       "<div>\n",
       "<style scoped>\n",
       "    .dataframe tbody tr th:only-of-type {\n",
       "        vertical-align: middle;\n",
       "    }\n",
       "\n",
       "    .dataframe tbody tr th {\n",
       "        vertical-align: top;\n",
       "    }\n",
       "\n",
       "    .dataframe thead th {\n",
       "        text-align: right;\n",
       "    }\n",
       "</style>\n",
       "<table border=\"1\" class=\"dataframe\">\n",
       "  <thead>\n",
       "    <tr style=\"text-align: right;\">\n",
       "      <th></th>\n",
       "      <th>original</th>\n",
       "      <th>corrected</th>\n",
       "    </tr>\n",
       "  </thead>\n",
       "  <tbody>\n",
       "    <tr>\n",
       "      <th>0</th>\n",
       "      <td>dque</td>\n",
       "      <td>domestique</td>\n",
       "    </tr>\n",
       "    <tr>\n",
       "      <th>1</th>\n",
       "      <td>point</td>\n",
       "      <td>pointeur</td>\n",
       "    </tr>\n",
       "    <tr>\n",
       "      <th>2</th>\n",
       "      <td>gociant</td>\n",
       "      <td>negociant</td>\n",
       "    </tr>\n",
       "    <tr>\n",
       "      <th>3</th>\n",
       "      <td>vie de sesrentes</td>\n",
       "      <td>vie de ses rentes</td>\n",
       "    </tr>\n",
       "  </tbody>\n",
       "</table>\n",
       "</div>"
      ],
      "text/plain": [
       "           original           corrected\n",
       "0              dque          domestique\n",
       "1             point            pointeur\n",
       "2           gociant           negociant\n",
       "3  vie de sesrentes   vie de ses rentes"
      ]
     },
     "execution_count": 10,
     "metadata": {},
     "output_type": "execute_result"
    }
   ],
   "source": [
    "corrected = pd.read_csv(DATA_DIR+'/processed/corrected.csv')\n",
    "corrected"
   ]
  },
  {
   "cell_type": "code",
   "execution_count": 21,
   "id": "71b27d42",
   "metadata": {},
   "outputs": [
    {
     "data": {
      "text/plain": [
       "{'dque': 'domestique',\n",
       " 'point': 'pointeur',\n",
       " 'gociant': 'negociant',\n",
       " 'vie de sesrentes': ' vie de ses rentes'}"
      ]
     },
     "execution_count": 21,
     "metadata": {},
     "output_type": "execute_result"
    }
   ],
   "source": [
    "correction_mapping = dict(zip(corrected['original'], corrected['corrected']))\n",
    "correction_mapping"
   ]
  },
  {
   "cell_type": "code",
   "execution_count": 23,
   "id": "0b4b3ab8",
   "metadata": {},
   "outputs": [
    {
     "data": {
      "text/plain": [
       "0            domestique\n",
       "1              pointeur\n",
       "2             negociant\n",
       "3     vie de ses rentes\n",
       "Name: original, dtype: object"
      ]
     },
     "execution_count": 23,
     "metadata": {},
     "output_type": "execute_result"
    }
   ],
   "source": [
    "corrected['original'].apply(lambda s: correction_mapping[s])"
   ]
  },
  {
   "cell_type": "code",
   "execution_count": null,
   "id": "058f1a3f",
   "metadata": {},
   "outputs": [],
   "source": []
  }
 ],
 "metadata": {
  "kernelspec": {
   "display_name": "Python 3 (ipykernel)",
   "language": "python",
   "name": "python3"
  },
  "language_info": {
   "codemirror_mode": {
    "name": "ipython",
    "version": 3
   },
   "file_extension": ".py",
   "mimetype": "text/x-python",
   "name": "python",
   "nbconvert_exporter": "python",
   "pygments_lexer": "ipython3",
   "version": "3.8.11"
  }
 },
 "nbformat": 4,
 "nbformat_minor": 5
}
