{
 "cells": [
  {
   "cell_type": "code",
   "execution_count": 2,
   "id": "80d39a44",
   "metadata": {},
   "outputs": [],
   "source": [
    "import os\n",
    "import pandas as pd\n",
    "\n",
    "from constants import *"
   ]
  },
  {
   "cell_type": "markdown",
   "id": "4b597e27",
   "metadata": {},
   "source": [
    "# Analyse du biais "
   ]
  },
  {
   "cell_type": "code",
   "execution_count": 3,
   "id": "3399169d",
   "metadata": {},
   "outputs": [
    {
     "data": {
      "text/html": [
       "<div>\n",
       "<style scoped>\n",
       "    .dataframe tbody tr th:only-of-type {\n",
       "        vertical-align: middle;\n",
       "    }\n",
       "\n",
       "    .dataframe tbody tr th {\n",
       "        vertical-align: top;\n",
       "    }\n",
       "\n",
       "    .dataframe thead th {\n",
       "        text-align: right;\n",
       "    }\n",
       "</style>\n",
       "<table border=\"1\" class=\"dataframe\">\n",
       "  <thead>\n",
       "    <tr style=\"text-align: right;\">\n",
       "      <th></th>\n",
       "      <th>annee</th>\n",
       "      <th>chef_vocation</th>\n",
       "      <th>pensionnaires_condition</th>\n",
       "    </tr>\n",
       "  </thead>\n",
       "  <tbody>\n",
       "    <tr>\n",
       "      <th>0</th>\n",
       "      <td>1848</td>\n",
       "      <td>[]</td>\n",
       "      <td>[]</td>\n",
       "    </tr>\n",
       "    <tr>\n",
       "      <th>1</th>\n",
       "      <td>1848</td>\n",
       "      <td>[conservateur]</td>\n",
       "      <td>[pensionnaire]</td>\n",
       "    </tr>\n",
       "    <tr>\n",
       "      <th>2</th>\n",
       "      <td>1848</td>\n",
       "      <td>[boulanger]</td>\n",
       "      <td>[]</td>\n",
       "    </tr>\n",
       "    <tr>\n",
       "      <th>3</th>\n",
       "      <td>1848</td>\n",
       "      <td>[tailleuse]</td>\n",
       "      <td>[ouvriere, apprentie]</td>\n",
       "    </tr>\n",
       "    <tr>\n",
       "      <th>4</th>\n",
       "      <td>1848</td>\n",
       "      <td>[relieur]</td>\n",
       "      <td>[]</td>\n",
       "    </tr>\n",
       "    <tr>\n",
       "      <th>...</th>\n",
       "      <td>...</td>\n",
       "      <td>...</td>\n",
       "      <td>...</td>\n",
       "    </tr>\n",
       "    <tr>\n",
       "      <th>518</th>\n",
       "      <td>1868</td>\n",
       "      <td>[marchand de tamis]</td>\n",
       "      <td>[]</td>\n",
       "    </tr>\n",
       "    <tr>\n",
       "      <th>519</th>\n",
       "      <td>1868</td>\n",
       "      <td>[rentiere]</td>\n",
       "      <td>[arpenteur]</td>\n",
       "    </tr>\n",
       "    <tr>\n",
       "      <th>520</th>\n",
       "      <td>1868</td>\n",
       "      <td>[charcutier]</td>\n",
       "      <td>[domestique]</td>\n",
       "    </tr>\n",
       "    <tr>\n",
       "      <th>521</th>\n",
       "      <td>1868</td>\n",
       "      <td>[macon]</td>\n",
       "      <td>[pensionnaire]</td>\n",
       "    </tr>\n",
       "    <tr>\n",
       "      <th>522</th>\n",
       "      <td>1868</td>\n",
       "      <td>[boulanger]</td>\n",
       "      <td>[pensionnaire, apprenti, boulanger, domestique]</td>\n",
       "    </tr>\n",
       "  </tbody>\n",
       "</table>\n",
       "<p>523 rows × 3 columns</p>\n",
       "</div>"
      ],
      "text/plain": [
       "     annee        chef_vocation  \\\n",
       "0     1848                   []   \n",
       "1     1848       [conservateur]   \n",
       "2     1848          [boulanger]   \n",
       "3     1848          [tailleuse]   \n",
       "4     1848            [relieur]   \n",
       "..     ...                  ...   \n",
       "518   1868  [marchand de tamis]   \n",
       "519   1868           [rentiere]   \n",
       "520   1868         [charcutier]   \n",
       "521   1868              [macon]   \n",
       "522   1868          [boulanger]   \n",
       "\n",
       "                             pensionnaires_condition  \n",
       "0                                                 []  \n",
       "1                                     [pensionnaire]  \n",
       "2                                                 []  \n",
       "3                              [ouvriere, apprentie]  \n",
       "4                                                 []  \n",
       "..                                               ...  \n",
       "518                                               []  \n",
       "519                                      [arpenteur]  \n",
       "520                                     [domestique]  \n",
       "521                                   [pensionnaire]  \n",
       "522  [pensionnaire, apprenti, boulanger, domestique]  \n",
       "\n",
       "[523 rows x 3 columns]"
      ]
     },
     "execution_count": 3,
     "metadata": {},
     "output_type": "execute_result"
    }
   ],
   "source": [
    "#original contains the original string and the corrected string \n",
    "original = pd.read_csv(MANUAL_TRANSCRIPTION)\n",
    "original = original[[\"annee\",\"chef_vocation\", \"chef_vocation_transcripted\", \"pensionnaires_condition\", \"pensionnaires_condition_transcripted\"]]\n",
    "\n",
    "cols = [\"chef_vocation\",\"chef_vocation_transcripted\",\"pensionnaires_condition\",\"pensionnaires_condition_transcripted\"]\n",
    "original[cols] = original[cols].fillna(\"\") \\\n",
    "                                .apply(lambda serie: serie.apply(lambda s: s.replace(\"·\",\"\").split('|')))\n",
    "original = original.fillna(\"\").replace(\"NSP\",\"\")\n",
    "\n",
    "manual_transcription = original[['annee','chef_vocation_transcripted','pensionnaires_condition_transcripted']]\\\n",
    ".rename(columns = {'chef_vocation_transcripted':'chef_vocation','pensionnaires_condition_transcripted':'pensionnaires_condition'})\n",
    "\n",
    "manual_transcription\n"
   ]
  },
  {
   "cell_type": "code",
   "execution_count": 4,
   "id": "d0640c9d",
   "metadata": {},
   "outputs": [
    {
     "data": {
      "text/html": [
       "<div>\n",
       "<style scoped>\n",
       "    .dataframe tbody tr th:only-of-type {\n",
       "        vertical-align: middle;\n",
       "    }\n",
       "\n",
       "    .dataframe tbody tr th {\n",
       "        vertical-align: top;\n",
       "    }\n",
       "\n",
       "    .dataframe thead th {\n",
       "        text-align: right;\n",
       "    }\n",
       "</style>\n",
       "<table border=\"1\" class=\"dataframe\">\n",
       "  <thead>\n",
       "    <tr style=\"text-align: right;\">\n",
       "      <th></th>\n",
       "      <th>annee</th>\n",
       "      <th>chef_vocation</th>\n",
       "      <th>pensionnaires_condition</th>\n",
       "    </tr>\n",
       "  </thead>\n",
       "  <tbody>\n",
       "    <tr>\n",
       "      <th>0</th>\n",
       "      <td>1835</td>\n",
       "      <td>[rocureur]</td>\n",
       "      <td>[pensre friere se]</td>\n",
       "    </tr>\n",
       "    <tr>\n",
       "      <th>1</th>\n",
       "      <td>1835</td>\n",
       "      <td>[pintier]</td>\n",
       "      <td>[pensionnaire]</td>\n",
       "    </tr>\n",
       "    <tr>\n",
       "      <th>2</th>\n",
       "      <td>1835</td>\n",
       "      <td>[boulanger]</td>\n",
       "      <td>[ouvrier]</td>\n",
       "    </tr>\n",
       "    <tr>\n",
       "      <th>3</th>\n",
       "      <td>1835</td>\n",
       "      <td>[voiturier]</td>\n",
       "      <td>[penvre]</td>\n",
       "    </tr>\n",
       "    <tr>\n",
       "      <th>4</th>\n",
       "      <td>1835</td>\n",
       "      <td>[marechat]</td>\n",
       "      <td>[ouvrier, ouvrier]</td>\n",
       "    </tr>\n",
       "    <tr>\n",
       "      <th>...</th>\n",
       "      <td>...</td>\n",
       "      <td>...</td>\n",
       "      <td>...</td>\n",
       "    </tr>\n",
       "    <tr>\n",
       "      <th>378721</th>\n",
       "      <td>1898</td>\n",
       "      <td>[chay l]</td>\n",
       "      <td>[]</td>\n",
       "    </tr>\n",
       "    <tr>\n",
       "      <th>378722</th>\n",
       "      <td>1898</td>\n",
       "      <td>[meme maison]</td>\n",
       "      <td>[]</td>\n",
       "    </tr>\n",
       "    <tr>\n",
       "      <th>378723</th>\n",
       "      <td>1898</td>\n",
       "      <td>[monimier]</td>\n",
       "      <td>[]</td>\n",
       "    </tr>\n",
       "    <tr>\n",
       "      <th>378724</th>\n",
       "      <td>1898</td>\n",
       "      <td>[ontumineur]</td>\n",
       "      <td>[]</td>\n",
       "    </tr>\n",
       "    <tr>\n",
       "      <th>378725</th>\n",
       "      <td>1898</td>\n",
       "      <td>[aman bure]</td>\n",
       "      <td>[]</td>\n",
       "    </tr>\n",
       "  </tbody>\n",
       "</table>\n",
       "<p>378726 rows × 3 columns</p>\n",
       "</div>"
      ],
      "text/plain": [
       "        annee  chef_vocation pensionnaires_condition\n",
       "0        1835     [rocureur]      [pensre friere se]\n",
       "1        1835      [pintier]          [pensionnaire]\n",
       "2        1835    [boulanger]               [ouvrier]\n",
       "3        1835    [voiturier]                [penvre]\n",
       "4        1835     [marechat]      [ouvrier, ouvrier]\n",
       "...       ...            ...                     ...\n",
       "378721   1898       [chay l]                      []\n",
       "378722   1898  [meme maison]                      []\n",
       "378723   1898     [monimier]                      []\n",
       "378724   1898   [ontumineur]                      []\n",
       "378725   1898    [aman bure]                      []\n",
       "\n",
       "[378726 rows x 3 columns]"
      ]
     },
     "execution_count": 4,
     "metadata": {},
     "output_type": "execute_result"
    }
   ],
   "source": [
    "from ast import literal_eval\n",
    "\n",
    "#All the data processed through the automatic correction pipeline => keep also the words that are not correct\n",
    "automatic_correction = pd.read_csv(CORRECTED_RAW_DATA)\n",
    "automatic_correction = automatic_correction[[\"annee\",\"chef_vocation\",\"pensionnaires_condition\"]]\n",
    "automatic_correction[[\"chef_vocation\",\"pensionnaires_condition\"]] = automatic_correction[[\"chef_vocation\",\"pensionnaires_condition\"]].applymap(literal_eval)\n",
    "automatic_correction = automatic_correction.fillna(\"\").replace(\"NSP\",\"\")\n",
    "automatic_correction"
   ]
  },
  {
   "cell_type": "code",
   "execution_count": 5,
   "id": "83bf4d17",
   "metadata": {},
   "outputs": [
    {
     "name": "stdout",
     "output_type": "stream",
     "text": [
      "274\n",
      "274\n"
     ]
    }
   ],
   "source": [
    "manual_transcription_1848 = manual_transcription[manual_transcription[\"annee\"]==1848]\n",
    "manual_transcription_1868 = manual_transcription[manual_transcription[\"annee\"]==1868]\n",
    "\n",
    "original_1848 = original[original[\"annee\"]==1848]\n",
    "original_1868 = original[original[\"annee\"]==1868]\n",
    "\n",
    "automatic_correction_1848 = automatic_correction[automatic_correction[\"annee\"]==1848]\n",
    "automatic_correction_1868 = automatic_correction[automatic_correction[\"annee\"]==1868]\n",
    "\n",
    "automatic_correction_1848 = automatic_correction_1848.iloc[:len(manual_transcription_1848)]\n",
    "automatic_correction_1868 = automatic_correction_1868.iloc[:len(manual_transcription_1868)]\n",
    "\n",
    "print(len(manual_transcription_1848))\n",
    "print(len(automatic_correction_1848))"
   ]
  },
  {
   "cell_type": "markdown",
   "id": "e15fe223",
   "metadata": {},
   "source": [
    "### Word length analysis"
   ]
  },
  {
   "cell_type": "code",
   "execution_count": 10,
   "id": "39b38524",
   "metadata": {},
   "outputs": [
    {
     "data": {
      "image/png": "[encoded data removed]",
      "text/plain": [
       "<Figure size 432x288 with 1 Axes>"
      ]
     },
     "metadata": {
      "needs_background": "light"
     },
     "output_type": "display_data"
    },
    {
     "data": {
      "image/png": "[encoded data removed]",
      "text/plain": [
       "<Figure size 432x288 with 1 Axes>"
      ]
     },
     "metadata": {
      "needs_background": "light"
     },
     "output_type": "display_data"
    }
   ],
   "source": [
    "import matplotlib.pyplot as plt\n",
    "\n",
    "kept_terms = set(pd.read_csv(CORRECT_JOBS)[\"0\"])\n",
    "\n",
    "def word_length_distribution(col,only_keep_terms=False):\n",
    "    new_col = col.explode()\n",
    "    if(only_keep_terms):\n",
    "        new_col = new_col[new_col.isin(kept_terms)]\n",
    "    new_col = new_col.apply(lambda s: len(s))\n",
    "    \n",
    "    value_counts = new_col.value_counts().sort_index()\n",
    "    #Remove 0 size values\n",
    "    value_counts = value_counts.drop(value_counts.index[0],axis='index')\n",
    "    return value_counts\n",
    "\n",
    "def plot_word_length(manual,automatic,title):\n",
    "    word_length_manual = word_length_distribution(manual)\n",
    "    word_length_automatic = word_length_distribution(automatic,only_keep_terms=True)\n",
    "    \n",
    "    plt.plot(word_length_manual,color='green', label='manual')\n",
    "    plt.plot(word_length_automatic,color='blue', label='automatic')\n",
    "    plt.xlabel('Word length')\n",
    "    plt.ylabel('Occurence count')\n",
    "    plt.title(title)\n",
    "    plt.legend()\n",
    "    plt.show()\n",
    "    \n",
    "plot_word_length(manual_transcription_1848['chef_vocation'],\n",
    "                 automatic_correction_1848['chef_vocation']\n",
    "                 ,title=\"Word occurence for chef_vocation in 1848\")\n",
    "\n",
    "plot_word_length(manual_transcription_1868['chef_vocation'],\n",
    "                 automatic_correction_1868['chef_vocation']\n",
    "                 ,title=\"Word occurence for chef_vocation in 1868\")"
   ]
  },
  {
   "cell_type": "markdown",
   "id": "f067db93",
   "metadata": {},
   "source": [
    "**Discussion** As we can see, the automatic correction does not correct long words, this is due to the selection of the top 100 most frequent words bias and the fact that long words are less frequent and also that the OCR might make more mistakes on long words words "
   ]
  },
  {
   "cell_type": "markdown",
   "id": "883d7811",
   "metadata": {},
   "source": [
    "### Distribution similarity"
   ]
  },
  {
   "cell_type": "code",
   "execution_count": 11,
   "id": "573ad43b",
   "metadata": {},
   "outputs": [],
   "source": [
    "from collections import Counter\n",
    "\n",
    "def count_jobs(df,col_name,only_keep_terms=False):\n",
    "    jobs = df[col_name].explode()\n",
    "    if(only_keep_terms):\n",
    "        jobs=jobs[jobs.isin(kept_terms)]\n",
    "        \n",
    "    jobs = jobs[jobs!='']\n",
    "    job_counts = jobs.value_counts()\n",
    "    job_counts = job_counts.to_frame().reset_index()\n",
    "    \n",
    "    return job_counts.rename(columns = {'index':col_name, col_name:'count'},inplace=False)\n",
    "\n",
    "def compute_difference(df1,df2,col_name,only_keep_terms=False):\n",
    "    job_counts1=count_jobs(df1,col_name,only_keep_terms)\n",
    "    job_counts2=count_jobs(df2,col_name,only_keep_terms)\n",
    "    job_counts = pd.merge(job_counts1, job_counts2, how='outer',left_on = 'chef_vocation', right_on='chef_vocation').fillna(0)\n",
    "    job_counts['diff'] = (job_counts['count_x']-job_counts['count_y']).abs()\n",
    "    #Divide by 2 because all differences are computed twice\n",
    "    return job_counts['diff'].sum()\n",
    "\n",
    "def compute_accuracy(df_pred,df_true,col_name,only_keep_terms=False):\n",
    "    true_counts = count_jobs(df_true,col_name,only_keep_terms)['count'].sum()\n",
    "    diff = compute_difference(df_pred,df_true,col_name,only_keep_terms)/2\n",
    "    return (true_counts-diff)/true_counts"
   ]
  },
  {
   "cell_type": "code",
   "execution_count": 12,
   "id": "f8477b86",
   "metadata": {},
   "outputs": [
    {
     "name": "stdout",
     "output_type": "stream",
     "text": [
      "1.0\n",
      "0.6029411764705882\n",
      "0.7012987012987013\n"
     ]
    }
   ],
   "source": [
    "print(compute_accuracy(manual_transcription_1848,manual_transcription_1848,'chef_vocation',only_keep_terms=True))\n",
    "print(compute_accuracy(manual_transcription_1848,original_1848,'chef_vocation',only_keep_terms=True))\n",
    "print(compute_accuracy(manual_transcription_1848,automatic_correction_1848,'chef_vocation',only_keep_terms=True))"
   ]
  },
  {
   "cell_type": "code",
   "execution_count": 13,
   "id": "996a13fa",
   "metadata": {},
   "outputs": [
    {
     "name": "stdout",
     "output_type": "stream",
     "text": [
      "1.0\n",
      "0.8509316770186336\n",
      "0.903954802259887\n"
     ]
    }
   ],
   "source": [
    "print(compute_accuracy(manual_transcription_1868,manual_transcription_1868,'chef_vocation',only_keep_terms=True))\n",
    "print(compute_accuracy(manual_transcription_1868,original_1868,'chef_vocation',only_keep_terms=True))\n",
    "print(compute_accuracy(manual_transcription_1868,automatic_correction_1868,'chef_vocation',only_keep_terms=True))"
   ]
  },
  {
   "cell_type": "code",
   "execution_count": 14,
   "id": "2ac43766",
   "metadata": {},
   "outputs": [
    {
     "name": "stdout",
     "output_type": "stream",
     "text": [
      "249\n",
      "274\n"
     ]
    }
   ],
   "source": [
    "print(len(manual_transcription_1868))\n",
    "print(len(manual_transcription_1848))"
   ]
  },
  {
   "cell_type": "code",
   "execution_count": 15,
   "id": "0fb76df5",
   "metadata": {},
   "outputs": [
    {
     "data": {
      "text/plain": [
       "0.7210093115307475"
      ]
     },
     "execution_count": 15,
     "metadata": {},
     "output_type": "execute_result"
    }
   ],
   "source": [
    "((compute_accuracy(manual_transcription_1868,original_1868,'chef_vocation',only_keep_terms=True) * len(manual_transcription_1868)\n",
    "+ compute_accuracy(manual_transcription_1848,original_1848,'chef_vocation',only_keep_terms=True) * len(manual_transcription_1848))/(len(manual_transcription_1868)+ len(manual_transcription_1848)))"
   ]
  },
  {
   "cell_type": "code",
   "execution_count": 16,
   "id": "e13ad205",
   "metadata": {},
   "outputs": [
    {
     "data": {
      "text/plain": [
       "0.7977831547199924"
      ]
     },
     "execution_count": 16,
     "metadata": {},
     "output_type": "execute_result"
    }
   ],
   "source": [
    "((compute_accuracy(manual_transcription_1868,automatic_correction_1868,'chef_vocation',only_keep_terms=True) * len(manual_transcription_1868)\n",
    "+ compute_accuracy(manual_transcription_1848,automatic_correction_1848,'chef_vocation',only_keep_terms=True) * len(manual_transcription_1848))/(len(manual_transcription_1868)+ len(manual_transcription_1848)))"
   ]
  }
 ],
 "metadata": {
  "interpreter": {
   "hash": "3d597f4c481aa0f25dceb95d2a0067e73c0966dcbd003d741d821a7208527ecf"
  },
  "kernelspec": {
   "display_name": "Python 3 (ipykernel)",
   "language": "python",
   "name": "python3"
  },
  "language_info": {
   "codemirror_mode": {
    "name": "ipython",
    "version": 3
   },
   "file_extension": ".py",
   "mimetype": "text/x-python",
   "name": "python",
   "nbconvert_exporter": "python",
   "pygments_lexer": "ipython3",
   "version": "3.8.11"
  }
 },
 "nbformat": 4,
 "nbformat_minor": 5
}
