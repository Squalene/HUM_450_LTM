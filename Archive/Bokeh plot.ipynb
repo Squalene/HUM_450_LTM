{
 "cells": [
  {
   "cell_type": "code",
   "execution_count": 161,
   "id": "e98fa536",
   "metadata": {},
   "outputs": [],
   "source": [
    "import pandas as pd\n",
    "import os\n",
    "import numpy as np\n",
    "DATA_DIR = 'data/'\n",
    "pd.set_option('display.max_colwidth', None) #Print full text\n",
    "pd.set_option('display.max_rows', 1000) #Print full text"
   ]
  },
  {
   "cell_type": "code",
   "execution_count": null,
   "id": "17e1c0b5",
   "metadata": {},
   "outputs": [],
   "source": [
    "df = pd.read_csv(DATA_DIR+'census_reduced.csv')"
   ]
  },
  {
   "cell_type": "code",
   "execution_count": 43,
   "id": "f13b7056",
   "metadata": {},
   "outputs": [],
   "source": [
    "vigne_term = ['vin','vigne','tonnelier','encaveur','viti']\n",
    "vine_related_data = df[df['chef_vocation'].str.contains('|'.join(vigne_term))].copy()"
   ]
  },
  {
   "cell_type": "code",
   "execution_count": 44,
   "id": "cc6e5ea5",
   "metadata": {},
   "outputs": [],
   "source": [
    "clean_data = {\n",
    "   \"md de vin\" : \"marchand de vin\",\n",
    "    \"vendeur de vin\" : \"marchand de vin\",\n",
    "    \"m de vin\" : \"marchand de vin\",\n",
    "    \"m de vins\" : \"marchand de vin\",\n",
    "    \"md de vins\" : \"marchand de vin\",\n",
    "    \"marchand de vine\": \"marchand de vin\",\n",
    "    \"marchand de vins\": \"marchand de vin\",\n",
    "    \"marchand vin\": \"marchand de vin\",\n",
    "    \"marchand|de vin\": \"marchand de vin\",\n",
    "    \"me de vins\": \"marchand de vin\",\n",
    "    \"md de vine\": \"marchand de vin\",\n",
    "    \"marchand|de vins\" : \"marchand de vin\",\n",
    "    \"vend de vin\" : \"marchand de vin\",\n",
    "    \n",
    "    \"vigneron|vigneron\" : \"vigneron\",\n",
    "    \"m tonnelier\" : \"tonnelier\"\n",
    "}\n",
    "\n",
    "clean_data_fun = lambda voc: clean_data.get(voc, voc)"
   ]
  },
  {
   "cell_type": "code",
   "execution_count": null,
   "id": "596b72fd",
   "metadata": {},
   "outputs": [],
   "source": []
  },
  {
   "cell_type": "code",
   "execution_count": 137,
   "id": "eb7e1ac7",
   "metadata": {},
   "outputs": [],
   "source": [
    "vine_related_data[\"chef_vocation\"] = vine_related_data.chef_vocation.apply(clean_data_fun)"
   ]
  },
  {
   "cell_type": "code",
   "execution_count": 138,
   "id": "8b859366",
   "metadata": {},
   "outputs": [],
   "source": [
    "most_common_vine_related_vocation = set(vine_related_data.groupby(\"chef_vocation\").size().sort_values(ascending=False).head(5).index)"
   ]
  },
  {
   "cell_type": "code",
   "execution_count": 139,
   "id": "2ab575a0",
   "metadata": {},
   "outputs": [
    {
     "data": {
      "text/plain": [
       "{'marchand de vin', 'tonnelier', 'vigneron', 'vigneronne', 'vintier'}"
      ]
     },
     "execution_count": 139,
     "metadata": {},
     "output_type": "execute_result"
    }
   ],
   "source": [
    "most_common_vine_related_vocation"
   ]
  },
  {
   "cell_type": "code",
   "execution_count": 140,
   "id": "c2bfb13f",
   "metadata": {},
   "outputs": [],
   "source": [
    "data = df[df['chef_vocation'].isin(most_common_vine_related_vocation)].groupby(['chef_vocation'])['annee'].apply(list)"
   ]
  },
  {
   "cell_type": "code",
   "execution_count": 141,
   "id": "91ecc381",
   "metadata": {},
   "outputs": [
    {
     "data": {
      "text/plain": [
       "Index(['marchand de vin', 'tonnelier', 'vigneron', 'vigneronne', 'vintier'], dtype='object', name='chef_vocation')"
      ]
     },
     "execution_count": 141,
     "metadata": {},
     "output_type": "execute_result"
    }
   ],
   "source": [
    "data.index"
   ]
  },
  {
   "cell_type": "code",
   "execution_count": 142,
   "id": "09fcbd78",
   "metadata": {},
   "outputs": [],
   "source": [
    "from sklearn.feature_extraction.text import CountVectorizer\n"
   ]
  },
  {
   "cell_type": "code",
   "execution_count": 143,
   "id": "a2fabe80",
   "metadata": {},
   "outputs": [],
   "source": [
    "years = [str(y) for y in sorted(df[\"annee\"].unique())]\n"
   ]
  },
  {
   "cell_type": "code",
   "execution_count": 153,
   "id": "3776bd15",
   "metadata": {},
   "outputs": [],
   "source": [
    "def dummy(doc):\n",
    "    return doc\n",
    "vectorizer = CountVectorizer(tokenizer=dummy,preprocessor=dummy, vocabulary=sorted(df[\"annee\"].unique())) "
   ]
  },
  {
   "cell_type": "code",
   "execution_count": 162,
   "id": "7a536d29",
   "metadata": {},
   "outputs": [],
   "source": [
    "X = np.array(vectorizer.fit_transform(data).todense())"
   ]
  },
  {
   "cell_type": "code",
   "execution_count": 163,
   "id": "834bfba8",
   "metadata": {},
   "outputs": [
    {
     "data": {
      "text/plain": [
       "array([[  3,   2,   0,   0,   0,   1,   1,   1,   2,   1,   0,   0,   0,\n",
       "          0,   0,   0,   0,   0,   0,   0,   0,   0,   0,   0,   0,   0,\n",
       "          1,   0,   0,   1,   1,   0,   0,   0,   1,   0,   0,   0,   0,\n",
       "          1,   0,   0,   0,   0,   0,   1,   0,   0,   1,   0,   0,   0,\n",
       "          0,   0,   0,   0,   1,   0,   1,   0,   0,   0,   0,   0,   0,\n",
       "          0],\n",
       "       [  8,  14,   9,  11,  13,  11,  13,  12,  10,  13,  11,   9,  11,\n",
       "          2,  15,   8,   0,   0,   0,   6,   0,   0,   0,   0,   0,   0,\n",
       "          9,   9,  12,  11,  15,  10,  12,  15,  19,  15,  16,  11,  13,\n",
       "         15,  10,  13,   1,  14,  11,  13,   6,   3,   4,  16,  14,  15,\n",
       "         17,  15,  14,  12,  16,  15,  17,  18,  13,   9,  17,  16,  12,\n",
       "         14],\n",
       "       [163, 109,  92, 121, 143, 115, 116, 114, 110, 108,  89, 101,  83,\n",
       "         41,  79,  86,   0,   0,  11,  25,   0,   0,   3,   0,   0,   1,\n",
       "         71,  77,  80,  73,  78,  78,  70,  62,  72,  72,  61,  61,  68,\n",
       "         57,  53,  50,  20,  59,  46,  54,  58,  44,  47,  49,  56,  58,\n",
       "         58,  54,  56,  45,  49,  35,  50,  43,  41,  45,  49,  45,  37,\n",
       "         35],\n",
       "       [  6,   0,   1,   1,   1,   1,   0,   0,   1,   0,   0,   0,   0,\n",
       "          0,   0,   0,   0,   0,   0,   0,   0,   0,   0,   0,   0,   0,\n",
       "          0,   0,   0,   0,   0,   0,   0,   0,   0,   0,   0,   0,   0,\n",
       "          0,   0,   0,   0,   0,   0,   0,   0,   0,   0,   2,   1,   1,\n",
       "          2,   3,   2,   3,   4,   2,   1,   2,   1,   1,   1,   0,   0,\n",
       "          0],\n",
       "       [  0,   1,   0,   0,   0,   3,   2,   4,   1,   2,   4,   2,   4,\n",
       "          0,   1,   0,   0,   0,   0,   1,   0,   0,   0,   0,   0,   0,\n",
       "          2,   8,   5,   4,   0,   0,   0,   1,   1,   1,   0,   3,   0,\n",
       "          0,   0,   0,   0,   0,   0,   0,   0,   0,   0,   0,   0,   0,\n",
       "          0,   0,   0,   0,   0,   0,   0,   0,   0,   0,   0,   0,   0,\n",
       "          0]])"
      ]
     },
     "execution_count": 163,
     "metadata": {},
     "output_type": "execute_result"
    }
   ],
   "source": [
    "X"
   ]
  },
  {
   "cell_type": "code",
   "execution_count": 164,
   "id": "37a3b057",
   "metadata": {},
   "outputs": [],
   "source": [
    "vocations = list(data.index)\n",
    "source = {'années' : years}\n",
    "for i, voc in enumerate(vocations):\n",
    "    source[voc] = X[i]"
   ]
  },
  {
   "cell_type": "code",
   "execution_count": 165,
   "id": "f1ea5550",
   "metadata": {},
   "outputs": [
    {
     "data": {
      "text/plain": [
       "{'années': ['1810',\n",
       "  '1832',\n",
       "  '1835',\n",
       "  '1836',\n",
       "  '1837',\n",
       "  '1838',\n",
       "  '1839',\n",
       "  '1840',\n",
       "  '1841',\n",
       "  '1842',\n",
       "  '1843',\n",
       "  '1844',\n",
       "  '1845',\n",
       "  '1846',\n",
       "  '1847',\n",
       "  '1848',\n",
       "  '1849',\n",
       "  '1850',\n",
       "  '1851',\n",
       "  '1852',\n",
       "  '1853',\n",
       "  '1854',\n",
       "  '1855',\n",
       "  '1856',\n",
       "  '1857',\n",
       "  '1858',\n",
       "  '1859',\n",
       "  '1860',\n",
       "  '1861',\n",
       "  '1862',\n",
       "  '1863',\n",
       "  '1864',\n",
       "  '1865',\n",
       "  '1866',\n",
       "  '1867',\n",
       "  '1868',\n",
       "  '1869',\n",
       "  '1870',\n",
       "  '1871',\n",
       "  '1872',\n",
       "  '1873',\n",
       "  '1874',\n",
       "  '1875',\n",
       "  '1876',\n",
       "  '1877',\n",
       "  '1878',\n",
       "  '1879',\n",
       "  '1880',\n",
       "  '1881',\n",
       "  '1882',\n",
       "  '1883',\n",
       "  '1884',\n",
       "  '1885',\n",
       "  '1886',\n",
       "  '1887',\n",
       "  '1888',\n",
       "  '1889',\n",
       "  '1890',\n",
       "  '1891',\n",
       "  '1892',\n",
       "  '1893',\n",
       "  '1894',\n",
       "  '1895',\n",
       "  '1896',\n",
       "  '1897',\n",
       "  '1898'],\n",
       " 'marchand de vin': array([3, 2, 0, 0, 0, 1, 1, 1, 2, 1, 0, 0, 0, 0, 0, 0, 0, 0, 0, 0, 0, 0,\n",
       "        0, 0, 0, 0, 1, 0, 0, 1, 1, 0, 0, 0, 1, 0, 0, 0, 0, 1, 0, 0, 0, 0,\n",
       "        0, 1, 0, 0, 1, 0, 0, 0, 0, 0, 0, 0, 1, 0, 1, 0, 0, 0, 0, 0, 0, 0]),\n",
       " 'tonnelier': array([ 8, 14,  9, 11, 13, 11, 13, 12, 10, 13, 11,  9, 11,  2, 15,  8,  0,\n",
       "         0,  0,  6,  0,  0,  0,  0,  0,  0,  9,  9, 12, 11, 15, 10, 12, 15,\n",
       "        19, 15, 16, 11, 13, 15, 10, 13,  1, 14, 11, 13,  6,  3,  4, 16, 14,\n",
       "        15, 17, 15, 14, 12, 16, 15, 17, 18, 13,  9, 17, 16, 12, 14]),\n",
       " 'vigneron': array([163, 109,  92, 121, 143, 115, 116, 114, 110, 108,  89, 101,  83,\n",
       "         41,  79,  86,   0,   0,  11,  25,   0,   0,   3,   0,   0,   1,\n",
       "         71,  77,  80,  73,  78,  78,  70,  62,  72,  72,  61,  61,  68,\n",
       "         57,  53,  50,  20,  59,  46,  54,  58,  44,  47,  49,  56,  58,\n",
       "         58,  54,  56,  45,  49,  35,  50,  43,  41,  45,  49,  45,  37,\n",
       "         35]),\n",
       " 'vigneronne': array([6, 0, 1, 1, 1, 1, 0, 0, 1, 0, 0, 0, 0, 0, 0, 0, 0, 0, 0, 0, 0, 0,\n",
       "        0, 0, 0, 0, 0, 0, 0, 0, 0, 0, 0, 0, 0, 0, 0, 0, 0, 0, 0, 0, 0, 0,\n",
       "        0, 0, 0, 0, 0, 2, 1, 1, 2, 3, 2, 3, 4, 2, 1, 2, 1, 1, 1, 0, 0, 0]),\n",
       " 'vintier': array([0, 1, 0, 0, 0, 3, 2, 4, 1, 2, 4, 2, 4, 0, 1, 0, 0, 0, 0, 1, 0, 0,\n",
       "        0, 0, 0, 0, 2, 8, 5, 4, 0, 0, 0, 1, 1, 1, 0, 3, 0, 0, 0, 0, 0, 0,\n",
       "        0, 0, 0, 0, 0, 0, 0, 0, 0, 0, 0, 0, 0, 0, 0, 0, 0, 0, 0, 0, 0, 0])}"
      ]
     },
     "execution_count": 165,
     "metadata": {},
     "output_type": "execute_result"
    }
   ],
   "source": [
    "source"
   ]
  },
  {
   "cell_type": "code",
   "execution_count": 168,
   "id": "47cb0345",
   "metadata": {},
   "outputs": [],
   "source": [
    "from bokeh.io import output_file, show\n",
    "from bokeh.plotting import figure\n",
    "\n",
    "output_file(\"stacked.html\")\n",
    "\n",
    "colors = [\"#c9d9d3\", \"#718dbf\", \"#e84d60\", \"#c9ddd3\", \"#e8ff60\"]\n",
    "\n",
    "p = figure(x_range=years, height=500, title=\"Vocation par année\",\n",
    "           toolbar_location=None, tools=\"\")\n",
    "\n",
    "p.vbar_stack(vocations, x='années', width=0.9, color=colors, source=source,\n",
    "             legend_label=vocations)\n",
    "\n",
    "p.y_range.start = 0\n",
    "p.x_range.range_padding = 0.1\n",
    "p.xgrid.grid_line_color = None\n",
    "p.axis.minor_tick_line_color = None\n",
    "p.outline_line_color = None\n",
    "p.legend.location = \"top_left\"\n",
    "p.legend.orientation = \"horizontal\"\n",
    "\n",
    "show(p)"
   ]
  },
  {
   "cell_type": "code",
   "execution_count": 169,
   "id": "33055535",
   "metadata": {},
   "outputs": [
    {
     "name": "stderr",
     "output_type": "stream",
     "text": [
      "/usr/local/Caskroom/miniconda/base/envs/ada/lib/python3.8/site-packages/bokeh/models/plots.py:815: UserWarning: \n",
      "You are attempting to set `plot.legend.location` on a plot that has zero legends added, this will have no effect.\n",
      "\n",
      "Before legend properties can be set, you must add a Legend explicitly, or call a glyph method with a legend parameter set.\n",
      "\n",
      "  warnings.warn(_LEGEND_EMPTY_WARNING % attr)\n",
      "/usr/local/Caskroom/miniconda/base/envs/ada/lib/python3.8/site-packages/bokeh/models/plots.py:815: UserWarning: \n",
      "You are attempting to set `plot.legend.orientation` on a plot that has zero legends added, this will have no effect.\n",
      "\n",
      "Before legend properties can be set, you must add a Legend explicitly, or call a glyph method with a legend parameter set.\n",
      "\n",
      "  warnings.warn(_LEGEND_EMPTY_WARNING % attr)\n"
     ]
    }
   ],
   "source": [
    "from bokeh.io import output_file, show\n",
    "from bokeh.plotting import figure\n",
    "\n",
    "output_file(\"stacked.html\")\n",
    "\n",
    "colors = [\"#c9d9d3\", \"#718dbf\", \"#e84d60\", \"#c9ddd3\", \"#e8ff60\"]\n",
    "\n",
    "p = figure(x_axis_type = \"datetime\", title = \"Glucose Range\", plot_height = 350, plot_width = 800)\n",
    "\n",
    "\n",
    "for i, voc in enumerate(vocations):\n",
    "    p.line(source[voc], X[i])\n",
    "\n",
    "\n",
    "\n",
    "p.y_range.start = 0\n",
    "p.x_range.range_padding = 0.1\n",
    "p.xgrid.grid_line_color = None\n",
    "p.axis.minor_tick_line_color = None\n",
    "p.outline_line_color = None\n",
    "p.legend.location = \"top_left\"\n",
    "p.legend.orientation = \"horizontal\"\n",
    "\n",
    "show(p)"
   ]
  },
  {
   "cell_type": "code",
   "execution_count": null,
   "id": "c2b08b7f",
   "metadata": {},
   "outputs": [],
   "source": []
  }
 ],
 "metadata": {
  "kernelspec": {
   "display_name": "Python 3 (ipykernel)",
   "language": "python",
   "name": "python3"
  },
  "language_info": {
   "codemirror_mode": {
    "name": "ipython",
    "version": 3
   },
   "file_extension": ".py",
   "mimetype": "text/x-python",
   "name": "python",
   "nbconvert_exporter": "python",
   "pygments_lexer": "ipython3",
   "version": "3.8.11"
  }
 },
 "nbformat": 4,
 "nbformat_minor": 5
}
